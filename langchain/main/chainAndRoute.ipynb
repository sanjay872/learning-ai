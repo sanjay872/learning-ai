{
 "cells": [
  {
   "cell_type": "markdown",
   "id": "bcb7e3aa",
   "metadata": {},
   "source": [
    "# Intro"
   ]
  },
  {
   "cell_type": "markdown",
   "id": "be5d42b0",
   "metadata": {},
   "source": [
    "Steps to create a graph with memory\n",
    "1. install required packages like langchain_openai, langchain_core, langgraph.\n",
    "    - langchain_openai has function to connect with openai model.\n",
    "    - langchain_core has inbuild message types like AI message, HumanMessage, SystemMessage, ToolMessage. Each message consist of \n",
    "        - Content\n",
    "        - name\n",
    "        - response_metadata\n",
    "    - langgraph has types and models to create the graphs.\n",
    "2. Define the state for node by predefined MessageSystem or Custom state with reducer using TypedDict.\n",
    "3. Define any tool_calling if required.\n",
    "4. Create LLM connection and add the tool_calling.\n",
    "5. Create the LLM node.\n",
    "6. Create the graph with node, edge and edge conditions if needed.\n",
    "7. Generate graph flow.\n",
    "8. Run and test the graph."
   ]
  },
  {
   "cell_type": "markdown",
   "id": "19235f13",
   "metadata": {},
   "source": [
    "# Code"
   ]
  },
  {
   "cell_type": "markdown",
   "id": "4b72ec81",
   "metadata": {},
   "source": [
    "## Step 1 (Installing packages)"
   ]
  },
  {
   "cell_type": "code",
   "execution_count": 2,
   "id": "7c71938b",
   "metadata": {},
   "outputs": [
    {
     "name": "stdout",
     "output_type": "stream",
     "text": [
      "Note: you may need to restart the kernel to use updated packages.\n"
     ]
    },
    {
     "name": "stderr",
     "output_type": "stream",
     "text": [
      "\n",
      "[notice] A new release of pip is available: 24.0 -> 25.2\n",
      "[notice] To update, run: python.exe -m pip install --upgrade pip\n"
     ]
    }
   ],
   "source": [
    "%pip install --quiet -U langchain_openai langchain_core langgraph"
   ]
  },
  {
   "cell_type": "markdown",
   "id": "f7366450",
   "metadata": {},
   "source": [
    "## Step 2 (Define State)"
   ]
  },
  {
   "cell_type": "code",
   "execution_count": 3,
   "id": "231be7c9",
   "metadata": {},
   "outputs": [],
   "source": [
    "from typing_extensions import TypedDict\n",
    "from langchain_core.messages import AnyMessage\n",
    "\n",
    "class CustomMessageState(TypedDict):\n",
    "        messages:list[AnyMessage]\n",
    "\n",
    "class CustomMessageStateWithString(TypedDict):\n",
    "        message:str"
   ]
  },
  {
   "cell_type": "markdown",
   "id": "70df0b7d",
   "metadata": {},
   "source": [
    "## Step 3 (Define Tool Calling)"
   ]
  },
  {
   "cell_type": "code",
   "execution_count": 11,
   "id": "92add9bf",
   "metadata": {},
   "outputs": [],
   "source": [
    "def Multiply(a:int, b:int) -> int:\n",
    "    \"\"\"Multiply a and b.\n",
    "\n",
    "    Args:\n",
    "        a: first int\n",
    "        b: second int\n",
    "    \"\"\"\n",
    "    return a*b"
   ]
  },
  {
   "cell_type": "markdown",
   "id": "e4c0209f",
   "metadata": {},
   "source": [
    "## Step 4 (Make LLM connection and add Tool Calling)"
   ]
  },
  {
   "cell_type": "code",
   "execution_count": 12,
   "id": "a01df50a",
   "metadata": {},
   "outputs": [],
   "source": [
    "from dotenv import load_dotenv\n",
    "from langchain_openai import ChatOpenAI\n",
    "\n",
    "load_dotenv() # loading api keys\n",
    "\n",
    "llm=ChatOpenAI(model=\"gpt-4o\",name=\"model\")\n",
    "\n",
    "tools=[Multiply]\n",
    "\n",
    "llm_with_tool=llm.bind_tools(tools,parallel_tool_calls=False)"
   ]
  },
  {
   "cell_type": "markdown",
   "id": "649c5b40",
   "metadata": {},
   "source": [
    "## Step 5 (Creating LLM node)"
   ]
  },
  {
   "cell_type": "code",
   "execution_count": 13,
   "id": "b0554175",
   "metadata": {},
   "outputs": [],
   "source": [
    "from langchain_core.messages import SystemMessage\n",
    "\n",
    "sysMsg = SystemMessage(content=\"You will be an assistant to perfrom math operations\")\n",
    "\n",
    "\n",
    "def assistant1(state:CustomMessageState):\n",
    "    return {\"messages\":[llm_with_tool.invoke(state[\"messages\"])]}\n",
    "\n",
    "def assistant2(state:CustomMessageStateWithString):\n",
    "    return llm_with_tool.invoke(state)"
   ]
  },
  {
   "cell_type": "markdown",
   "id": "54f3b638",
   "metadata": {},
   "source": [
    "## Step 6 and 7(Create graph and display)"
   ]
  },
  {
   "cell_type": "code",
   "execution_count": 14,
   "id": "79b44cee",
   "metadata": {},
   "outputs": [
    {
     "data": {
      "image/png": "[encoded data removed]",
      "text/plain": [
       "<IPython.core.display.Image object>"
      ]
     },
     "metadata": {},
     "output_type": "display_data"
    }
   ],
   "source": [
    "from langgraph.graph import StateGraph, END, START\n",
    "from IPython.display import Image, display\n",
    "\n",
    "# graph 1 with customMessageState\n",
    "builder1 = StateGraph(CustomMessageState)\n",
    "\n",
    "# creating a chain\n",
    "builder1.add_node(\"tool_calling_llm\",assistant1)\n",
    "builder1.add_edge(START,\"tool_calling_llm\")\n",
    "builder1.add_edge(\"tool_calling_llm\",END)\n",
    "\n",
    "# create graph\n",
    "graph1 = builder1.compile()\n",
    "\n",
    "# display the flow\n",
    "display(Image(graph1.get_graph().draw_mermaid_png()))"
   ]
  },
  {
   "cell_type": "code",
   "execution_count": 22,
   "id": "9d160fee",
   "metadata": {},
   "outputs": [
    {
     "data": {
      "image/png": "[encoded data removed]",
      "text/plain": [
       "<IPython.core.display.Image object>"
      ]
     },
     "metadata": {},
     "output_type": "display_data"
    }
   ],
   "source": [
    "from langgraph.prebuilt import ToolNode\n",
    "from langgraph.prebuilt import tools_condition\n",
    "\n",
    "\n",
    "# graph 2 with CustomMessageStateWithString\n",
    "builder2 = StateGraph(CustomMessageState) \n",
    "\n",
    "# creating a graph\n",
    "builder2.add_node(\"tool_calling_llm\",assistant2)\n",
    "builder2.add_node(\"tools\",ToolNode(tools))\n",
    "builder2.add_edge(START,\"tool_calling_llm\")\n",
    "builder2.add_conditional_edges(\"tool_calling_llm\",tools_condition)\n",
    "builder2.add_edge(\"tools\",\"tool_calling_llm\") # giving the flow back to assistant\n",
    "\n",
    "# create graph\n",
    "graph2= builder2.compile()\n",
    "\n",
    "display(Image(graph2.get_graph().draw_mermaid_png()))"
   ]
  },
  {
   "cell_type": "markdown",
   "id": "b4da93bc",
   "metadata": {},
   "source": [
    "## Step 8 (Run and Test)"
   ]
  },
  {
   "cell_type": "code",
   "execution_count": 29,
   "id": "914924b9",
   "metadata": {},
   "outputs": [
    {
     "name": "stdout",
     "output_type": "stream",
     "text": [
      "{'messages': [AIMessage(content='', additional_kwargs={'tool_calls': [{'id': 'call_XFbruKD5usi4Gk1OLv61QzJZ', 'function': {'arguments': '{\"a\":2,\"b\":4}', 'name': 'Multiply'}, 'type': 'function'}], 'refusal': None}, response_metadata={'token_usage': {'completion_tokens': 18, 'prompt_tokens': 58, 'total_tokens': 76, 'completion_tokens_details': {'accepted_prediction_tokens': 0, 'audio_tokens': 0, 'reasoning_tokens': 0, 'rejected_prediction_tokens': 0}, 'prompt_tokens_details': {'audio_tokens': 0, 'cached_tokens': 0}}, 'model_name': 'gpt-4o-2024-08-06', 'system_fingerprint': 'fp_f33640a400', 'id': 'chatcmpl-CK7qPSnj1MqhWgaG9YmzVD1LYp1Nf', 'service_tier': 'default', 'finish_reason': 'tool_calls', 'logprobs': None}, id='run--265a8117-b3ab-48d9-b2c6-da653adaa619-0', tool_calls=[{'name': 'Multiply', 'args': {'a': 2, 'b': 4}, 'id': 'call_XFbruKD5usi4Gk1OLv61QzJZ', 'type': 'tool_call'}], usage_metadata={'input_tokens': 58, 'output_tokens': 18, 'total_tokens': 76, 'input_token_details': {'audio': 0, 'cache_read': 0}, 'output_token_details': {'audio': 0, 'reasoning': 0}})]}\n"
     ]
    }
   ],
   "source": [
    "# Make sure to import the necessary message type from langchain_core\n",
    "from langchain_core.messages import HumanMessage\n",
    "\n",
    "# Your compiled graph object (assuming it's named 'app' or 'graph')\n",
    "# app = graph.compile() \n",
    "\n",
    "# 1. Define the input message as a list\n",
    "#    Even if there's only one message, it must be inside a list.\n",
    "input_messages = [HumanMessage(content=\"Multiply 2 and 4\")]\n",
    "\n",
    "# 2. Create the input dictionary with the 'messages' key\n",
    "#    This structure matches your graph's state (CustomMessageState)\n",
    "graph_input = {\"messages\": input_messages}\n",
    "\n",
    "# 3. Invoke the graph with the correctly structured dictionary\n",
    "response = graph1.invoke(graph_input)\n",
    "\n",
    "print(response)"
   ]
  },
  {
   "cell_type": "code",
   "execution_count": null,
   "id": "3a53aabf",
   "metadata": {},
   "outputs": [],
   "source": []
  }
 ],
 "metadata": {
  "kernelspec": {
   "display_name": "practice-venv",
   "language": "python",
   "name": "python3"
  },
  "language_info": {
   "codemirror_mode": {
    "name": "ipython",
    "version": 3
   },
   "file_extension": ".py",
   "mimetype": "text/x-python",
   "name": "python",
   "nbconvert_exporter": "python",
   "pygments_lexer": "ipython3",
   "version": "3.11.9"
  }
 },
 "nbformat": 4,
 "nbformat_minor": 5
}
