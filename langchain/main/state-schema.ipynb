{
 "cells": [
  {
   "cell_type": "markdown",
   "id": "f87b505a",
   "metadata": {},
   "source": [
    "# Different ways to define the state of nodes."
   ]
  },
  {
   "cell_type": "markdown",
   "id": "36e2dd56",
   "metadata": {},
   "source": [
    "## Install Libraries"
   ]
  },
  {
   "cell_type": "code",
   "execution_count": 2,
   "id": "588c4200",
   "metadata": {},
   "outputs": [
    {
     "name": "stdout",
     "output_type": "stream",
     "text": [
      "Note: you may need to restart the kernel to use updated packages.\n"
     ]
    },
    {
     "name": "stderr",
     "output_type": "stream",
     "text": [
      "\n",
      "[notice] A new release of pip is available: 24.0 -> 25.2\n",
      "[notice] To update, run: python.exe -m pip install --upgrade pip\n"
     ]
    }
   ],
   "source": [
    "%pip install --quiet -U langgraph"
   ]
  },
  {
   "cell_type": "markdown",
   "id": "267af597",
   "metadata": {},
   "source": [
    "## Schema"
   ]
  },
  {
   "cell_type": "markdown",
   "id": "4e4d0684",
   "metadata": {},
   "source": [
    "The state schema represents the structure and types of data that our graph will use.\n",
    "\n",
    "All nodes are expected to communicate with that schema."
   ]
  },
  {
   "cell_type": "markdown",
   "id": "5185dc09",
   "metadata": {},
   "source": [
    "### TypedDict"
   ]
  },
  {
   "cell_type": "markdown",
   "id": "a52118ac",
   "metadata": {},
   "source": [
    "Using static types."
   ]
  },
  {
   "cell_type": "code",
   "execution_count": 3,
   "id": "a4e9220e",
   "metadata": {},
   "outputs": [],
   "source": [
    "from typing_extensions import TypedDict\n",
    "\n",
    "class TypedDictState(TypedDict):\n",
    "    foo: str\n",
    "    bar: str"
   ]
  },
  {
   "cell_type": "markdown",
   "id": "8d4d01a7",
   "metadata": {},
   "source": [
    "Define constraints to the value"
   ]
  },
  {
   "cell_type": "code",
   "execution_count": 4,
   "id": "02854fef",
   "metadata": {},
   "outputs": [],
   "source": [
    "from typing import Literal\n",
    "\n",
    "class TypedDictState(TypedDict):\n",
    "    name: str\n",
    "    mood: Literal[\"happy\",\"sad\"] # in this field the data must be happy or sad"
   ]
  },
  {
   "cell_type": "code",
   "execution_count": null,
   "id": "77e4548d",
   "metadata": {},
   "outputs": [],
   "source": []
  },
  {
   "cell_type": "markdown",
   "id": "871178da",
   "metadata": {},
   "source": []
  }
 ],
 "metadata": {
  "kernelspec": {
   "display_name": "practice-venv",
   "language": "python",
   "name": "python3"
  },
  "language_info": {
   "codemirror_mode": {
    "name": "ipython",
    "version": 3
   },
   "file_extension": ".py",
   "mimetype": "text/x-python",
   "name": "python",
   "nbconvert_exporter": "python",
   "pygments_lexer": "ipython3",
   "version": "3.11.9"
  }
 },
 "nbformat": 4,
 "nbformat_minor": 5
}
