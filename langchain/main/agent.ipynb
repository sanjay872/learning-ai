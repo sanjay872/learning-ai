{
 "cells": [
  {
   "cell_type": "markdown",
   "id": "c0ef042d",
   "metadata": {},
   "source": [
    "We are going to create a agent router, which will decide whether to use a tool or end the flow. "
   ]
  },
  {
   "cell_type": "markdown",
   "id": "df1c8ad1",
   "metadata": {},
   "source": [
    "\n",
    "![Screenshot 2024-08-21 at 12.44.33 PM.png](https://cdn.prod.website-files.com/65b8cd72835ceeacd4449a53/66dbac0ba0bd34b541c448cc_agent1.png)"
   ]
  },
  {
   "cell_type": "markdown",
   "id": "3b3e056e",
   "metadata": {},
   "source": [
    "In the above router, we invoked the model and, if it chose to call a tool, we returned a `ToolMessage` to the user.\n",
    " \n",
    "But, what if we simply pass that `ToolMessage` *back to the model*?\n",
    "\n",
    "We can let it either (1) call another tool or (2) respond directly.\n",
    "\n",
    "This is the intuition behind [ReAct](https://react-lm.github.io/), a general agent architecture.\n",
    "  \n",
    "* `act` - let the model call specific tools \n",
    "* `observe` - pass the tool output back to the model \n",
    "* `reason` - let the model reason about the tool output to decide what to do next (e.g., call another tool or just respond directly)\n",
    "\n",
    "This [general purpose architecture](https://blog.langchain.dev/planning-for-agents/) can be applied to many types of tools. \n",
    "\n",
    "![Screenshot 2024-08-21 at 12.45.43 PM.png](https://cdn.prod.website-files.com/65b8cd72835ceeacd4449a53/66dbac0b4a2c1e5e02f3e78b_agent2.png)"
   ]
  },
  {
   "cell_type": "markdown",
   "id": "496b47f0",
   "metadata": {},
   "source": [
    "# Installing Libraries"
   ]
  },
  {
   "cell_type": "code",
   "execution_count": 1,
   "id": "4237cecb",
   "metadata": {},
   "outputs": [
    {
     "name": "stdout",
     "output_type": "stream",
     "text": [
      "Note: you may need to restart the kernel to use updated packages.\n"
     ]
    },
    {
     "name": "stderr",
     "output_type": "stream",
     "text": [
      "\n",
      "[notice] A new release of pip is available: 24.0 -> 25.2\n",
      "[notice] To update, run: python.exe -m pip install --upgrade pip\n"
     ]
    }
   ],
   "source": [
    "%pip install --quiet -U langchain_openai langchain_core langgraph langgraph-prebuilt"
   ]
  },
  {
   "cell_type": "code",
   "execution_count": 2,
   "id": "f6a201a2",
   "metadata": {},
   "outputs": [
    {
     "data": {
      "text/plain": [
       "True"
      ]
     },
     "execution_count": 2,
     "metadata": {},
     "output_type": "execute_result"
    }
   ],
   "source": [
    "from dotenv import load_dotenv\n",
    "load_dotenv()"
   ]
  },
  {
   "cell_type": "markdown",
   "id": "61923503",
   "metadata": {},
   "source": [
    "# tool function"
   ]
  },
  {
   "cell_type": "code",
   "execution_count": 3,
   "id": "3e379a24",
   "metadata": {},
   "outputs": [],
   "source": [
    "def multiply(a:int, b:int)-> int:\n",
    "    \"\"\"\n",
    "    Multiply a and b\n",
    "\n",
    "    args: \n",
    "        a: first int\n",
    "        b: second int\n",
    "    \"\"\"\n",
    "\n",
    "    return a*b\n",
    "\n",
    "def add(a:int, b:int) -> int:\n",
    "    \"\"\"\n",
    "    Add a and b\n",
    "\n",
    "    args:\n",
    "        a: first int\n",
    "        b: second int\n",
    "    \"\"\"\n",
    "    return a+b\n",
    "\n",
    "def sub(a:int, b:int) -> int:\n",
    "    \"\"\"\n",
    "    Subract a and b\n",
    "\n",
    "    args:\n",
    "        a: first int\n",
    "        b: second int\n",
    "    \"\"\"\n",
    "    return a-b\n",
    "\n",
    "def divide(a:int, b:int) -> int:\n",
    "    \"\"\"\n",
    "    Divide a and b\n",
    "\n",
    "    args:\n",
    "        a: first int\n",
    "        b: second int\n",
    "    \"\"\"\n",
    "    return a/b\n",
    "\n",
    "tools =[multiply, add, sub, divide]"
   ]
  },
  {
   "cell_type": "markdown",
   "id": "2f3098a8",
   "metadata": {},
   "source": [
    "# created tool calling"
   ]
  },
  {
   "cell_type": "code",
   "execution_count": 4,
   "id": "0f025ef4",
   "metadata": {},
   "outputs": [],
   "source": [
    "from langchain_openai import ChatOpenAI\n",
    "\n",
    "llm = ChatOpenAI(model=\"gpt-4o\")\n",
    "llm_with_tools = llm.bind_tools(tools,parallel_tool_calls=False)"
   ]
  },
  {
   "cell_type": "markdown",
   "id": "48aa9d28",
   "metadata": {},
   "source": [
    "# Created node"
   ]
  },
  {
   "cell_type": "code",
   "execution_count": 7,
   "id": "72bc599e",
   "metadata": {},
   "outputs": [],
   "source": [
    "from langgraph.graph import MessagesState\n",
    "from langchain_core.messages import HumanMessage, SystemMessage\n",
    "\n",
    "# system message\n",
    "sys_msg = SystemMessage(content=\"You are a helpful assisant for performing arithmetic operations\")\n",
    "\n",
    "# node\n",
    "def assistant(state:MessagesState):\n",
    "    return {\"messages\":[llm_with_tools.invoke([sys_msg]+state[\"messages\"])]} # passing system and human message into tool calling\n"
   ]
  },
  {
   "cell_type": "markdown",
   "id": "7812dfe5",
   "metadata": {},
   "source": [
    "For now, only the assistant node that performs the tool calling is created, we need to add a condition edge to know whether to use assistant node or end node. "
   ]
  },
  {
   "cell_type": "code",
   "execution_count": 8,
   "id": "1a680792",
   "metadata": {},
   "outputs": [
    {
     "data": {
      "image/png": "[encoded data removed]",
      "text/plain": [
       "<IPython.core.display.Image object>"
      ]
     },
     "metadata": {},
     "output_type": "display_data"
    }
   ],
   "source": [
    "from langgraph.graph import START, StateGraph, MessagesState\n",
    "from langgraph.prebuilt import ToolNode, tools_condition\n",
    "from IPython.display import Image, display\n",
    "\n",
    "builder = StateGraph(MessagesState)\n",
    "\n",
    "builder.add_node(\"assistant\",assistant)\n",
    "builder.add_node(\"tools\",ToolNode(tools))\n",
    "\n",
    "builder.add_edge(START,\"assistant\")\n",
    "builder.add_conditional_edges(\"assistant\",tools_condition)\n",
    "builder.add_edge(\"tools\",\"assistant\")\n",
    "\n",
    "graph = builder.compile()\n",
    "display(Image(graph.get_graph(xray=True).draw_mermaid_png()))\n"
   ]
  },
  {
   "cell_type": "markdown",
   "id": "6a6c4a3b",
   "metadata": {},
   "source": [
    "# Making call to graph"
   ]
  },
  {
   "cell_type": "code",
   "execution_count": 10,
   "id": "d5259f87",
   "metadata": {},
   "outputs": [],
   "source": [
    "messages = [HumanMessage(content=\"Add 5 and 3. Multiply the output with 2. Divide the output with 4. Subract 1 from the output.\")]\n",
    "messages = graph.invoke({\"messages\":messages})"
   ]
  },
  {
   "cell_type": "code",
   "execution_count": 11,
   "id": "f6ada8d2",
   "metadata": {},
   "outputs": [
    {
     "name": "stdout",
     "output_type": "stream",
     "text": [
      "================================\u001b[1m Human Message \u001b[0m=================================\n",
      "\n",
      "Add 5 and 3. Multiply the output with 2. Divide the output with 4. Subract 1 from the output.\n",
      "==================================\u001b[1m Ai Message \u001b[0m==================================\n",
      "Tool Calls:\n",
      "  add (call_vKpNCTiex4qX2M3J29PuliIt)\n",
      " Call ID: call_vKpNCTiex4qX2M3J29PuliIt\n",
      "  Args:\n",
      "    a: 5\n",
      "    b: 3\n",
      "=================================\u001b[1m Tool Message \u001b[0m=================================\n",
      "Name: add\n",
      "\n",
      "8\n",
      "==================================\u001b[1m Ai Message \u001b[0m==================================\n",
      "Tool Calls:\n",
      "  multiply (call_7UMKzjG1GaVZQ0g0j1SUCxjP)\n",
      " Call ID: call_7UMKzjG1GaVZQ0g0j1SUCxjP\n",
      "  Args:\n",
      "    a: 8\n",
      "    b: 2\n",
      "=================================\u001b[1m Tool Message \u001b[0m=================================\n",
      "Name: multiply\n",
      "\n",
      "16\n",
      "==================================\u001b[1m Ai Message \u001b[0m==================================\n",
      "Tool Calls:\n",
      "  divide (call_8oPxOARRP9sORcCbt8z0WUtf)\n",
      " Call ID: call_8oPxOARRP9sORcCbt8z0WUtf\n",
      "  Args:\n",
      "    a: 16\n",
      "    b: 4\n",
      "=================================\u001b[1m Tool Message \u001b[0m=================================\n",
      "Name: divide\n",
      "\n",
      "4.0\n",
      "==================================\u001b[1m Ai Message \u001b[0m==================================\n",
      "Tool Calls:\n",
      "  sub (call_daOW6X10kYPYUefVBcu3YNf3)\n",
      " Call ID: call_daOW6X10kYPYUefVBcu3YNf3\n",
      "  Args:\n",
      "    a: 4\n",
      "    b: 1\n",
      "=================================\u001b[1m Tool Message \u001b[0m=================================\n",
      "Name: sub\n",
      "\n",
      "3\n",
      "==================================\u001b[1m Ai Message \u001b[0m==================================\n",
      "\n",
      "The result after performing the operations is 3.\n"
     ]
    }
   ],
   "source": [
    "for m in messages['messages']:\n",
    "    m.pretty_print()"
   ]
  },
  {
   "cell_type": "markdown",
   "id": "b44e14b6",
   "metadata": {},
   "source": [
    "# Adding memory\n",
    "\n",
    "The reason for this is, when seperate chat request are made and if the information from previous chat is asked. The model won't  as there is no memory. So, we are adding memory to keep track of previous conversations."
   ]
  },
  {
   "cell_type": "code",
   "execution_count": 12,
   "id": "bffaaa2c",
   "metadata": {},
   "outputs": [],
   "source": [
    "from langgraph.checkpoint.memory import MemorySaver\n",
    "memory = MemorySaver()\n",
    "\n",
    "graph_with_memory = builder.compile(checkpointer=memory) # passing memory while creating the graph"
   ]
  },
  {
   "cell_type": "markdown",
   "id": "90286323",
   "metadata": {},
   "source": [
    "When we use memory, we need to specify a `thread_id`.\n",
    "\n",
    "This `thread_id` will store our collection of graph states.\n",
    "\n",
    "Here is a cartoon:\n",
    "\n",
    "* The checkpointer write the state at every step of the graph\n",
    "* These checkpoints are saved in a thread \n",
    "* We can access that thread in the future using the `thread_id`\n",
    "\n",
    "![state.jpg](https://cdn.prod.website-files.com/65b8cd72835ceeacd4449a53/66e0e9f526b41a4ed9e2d28b_agent-memory2.png)\n"
   ]
  },
  {
   "cell_type": "code",
   "execution_count": 16,
   "id": "906ff356",
   "metadata": {},
   "outputs": [
    {
     "name": "stdout",
     "output_type": "stream",
     "text": [
      "================================\u001b[1m Human Message \u001b[0m=================================\n",
      "\n",
      "Add 3 and 4\n",
      "==================================\u001b[1m Ai Message \u001b[0m==================================\n",
      "Tool Calls:\n",
      "  add (call_FgX26CMPzLJyUNKUJ7zQw2vL)\n",
      " Call ID: call_FgX26CMPzLJyUNKUJ7zQw2vL\n",
      "  Args:\n",
      "    a: 3\n",
      "    b: 4\n",
      "=================================\u001b[1m Tool Message \u001b[0m=================================\n",
      "Name: add\n",
      "\n",
      "7\n",
      "==================================\u001b[1m Ai Message \u001b[0m==================================\n",
      "\n",
      "The result of adding 3 and 4 is 7.\n",
      "================================\u001b[1m Human Message \u001b[0m=================================\n",
      "\n",
      "Add 3 and 4.\n",
      "==================================\u001b[1m Ai Message \u001b[0m==================================\n",
      "Tool Calls:\n",
      "  add (call_TuVi8fpDNYATv2zRfagvT6r9)\n",
      " Call ID: call_TuVi8fpDNYATv2zRfagvT6r9\n",
      "  Args:\n",
      "    a: 3\n",
      "    b: 4\n",
      "=================================\u001b[1m Tool Message \u001b[0m=================================\n",
      "Name: add\n",
      "\n",
      "7\n",
      "==================================\u001b[1m Ai Message \u001b[0m==================================\n",
      "\n",
      "The result of adding 3 and 4 is 7.\n",
      "================================\u001b[1m Human Message \u001b[0m=================================\n",
      "\n",
      "Add 3 and 4.\n",
      "==================================\u001b[1m Ai Message \u001b[0m==================================\n",
      "\n",
      "The result of adding 3 and 4 is 7.\n"
     ]
    }
   ],
   "source": [
    "# making a thread\n",
    "config = {\"configurable\":{\"thread_id\":\"1\"}}\n",
    "\n",
    "# input \n",
    "messages = [HumanMessage(content=\"Add 3 and 4.\")]\n",
    "\n",
    "# run\n",
    "messages = graph_with_memory.invoke({\"messages\":messages},config)\n",
    "for m in messages['messages']:\n",
    "    m.pretty_print()"
   ]
  },
  {
   "cell_type": "markdown",
   "id": "a46c6d8a",
   "metadata": {},
   "source": [
    "Using previous chat history"
   ]
  },
  {
   "cell_type": "code",
   "execution_count": 17,
   "id": "596bfb9e",
   "metadata": {},
   "outputs": [
    {
     "name": "stdout",
     "output_type": "stream",
     "text": [
      "================================\u001b[1m Human Message \u001b[0m=================================\n",
      "\n",
      "Add 3 and 4\n",
      "==================================\u001b[1m Ai Message \u001b[0m==================================\n",
      "Tool Calls:\n",
      "  add (call_FgX26CMPzLJyUNKUJ7zQw2vL)\n",
      " Call ID: call_FgX26CMPzLJyUNKUJ7zQw2vL\n",
      "  Args:\n",
      "    a: 3\n",
      "    b: 4\n",
      "=================================\u001b[1m Tool Message \u001b[0m=================================\n",
      "Name: add\n",
      "\n",
      "7\n",
      "==================================\u001b[1m Ai Message \u001b[0m==================================\n",
      "\n",
      "The result of adding 3 and 4 is 7.\n",
      "================================\u001b[1m Human Message \u001b[0m=================================\n",
      "\n",
      "Add 3 and 4.\n",
      "==================================\u001b[1m Ai Message \u001b[0m==================================\n",
      "Tool Calls:\n",
      "  add (call_TuVi8fpDNYATv2zRfagvT6r9)\n",
      " Call ID: call_TuVi8fpDNYATv2zRfagvT6r9\n",
      "  Args:\n",
      "    a: 3\n",
      "    b: 4\n",
      "=================================\u001b[1m Tool Message \u001b[0m=================================\n",
      "Name: add\n",
      "\n",
      "7\n",
      "==================================\u001b[1m Ai Message \u001b[0m==================================\n",
      "\n",
      "The result of adding 3 and 4 is 7.\n",
      "================================\u001b[1m Human Message \u001b[0m=================================\n",
      "\n",
      "Add 3 and 4.\n",
      "==================================\u001b[1m Ai Message \u001b[0m==================================\n",
      "\n",
      "The result of adding 3 and 4 is 7.\n",
      "================================\u001b[1m Human Message \u001b[0m=================================\n",
      "\n",
      "Multiply 2 with previous output.\n",
      "==================================\u001b[1m Ai Message \u001b[0m==================================\n",
      "Tool Calls:\n",
      "  multiply (call_PfycmLJD4v9CY32HjLtXps7T)\n",
      " Call ID: call_PfycmLJD4v9CY32HjLtXps7T\n",
      "  Args:\n",
      "    a: 2\n",
      "    b: 7\n",
      "=================================\u001b[1m Tool Message \u001b[0m=================================\n",
      "Name: multiply\n",
      "\n",
      "14\n",
      "==================================\u001b[1m Ai Message \u001b[0m==================================\n",
      "\n",
      "The result of multiplying 2 with the previous output (7) is 14.\n"
     ]
    }
   ],
   "source": [
    "messages = [HumanMessage(content=\"Multiply 2 with previous output.\")]\n",
    "messages = graph_with_memory.invoke({\"messages\":messages},config)\n",
    "for m in messages['messages']:\n",
    "    m.pretty_print()"
   ]
  },
  {
   "cell_type": "code",
   "execution_count": null,
   "id": "3ea5981d",
   "metadata": {},
   "outputs": [],
   "source": []
  }
 ],
 "metadata": {
  "kernelspec": {
   "display_name": "practice-venv",
   "language": "python",
   "name": "python3"
  },
  "language_info": {
   "codemirror_mode": {
    "name": "ipython",
    "version": 3
   },
   "file_extension": ".py",
   "mimetype": "text/x-python",
   "name": "python",
   "nbconvert_exporter": "python",
   "pygments_lexer": "ipython3",
   "version": "3.11.9"
  }
 },
 "nbformat": 4,
 "nbformat_minor": 5
}
